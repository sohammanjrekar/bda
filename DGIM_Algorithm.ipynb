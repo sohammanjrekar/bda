{
  "nbformat": 4,
  "nbformat_minor": 0,
  "metadata": {
    "colab": {
      "provenance": []
    },
    "kernelspec": {
      "name": "python3",
      "display_name": "Python 3"
    },
    "language_info": {
      "name": "python"
    }
  },
  "cells": [
    {
      "cell_type": "code",
      "execution_count": null,
      "metadata": {
        "colab": {
          "base_uri": "https://localhost:8080/"
        },
        "id": "InDLnrIcYopl",
        "outputId": "046b00fa-d515-4f5f-be57-743a045869a1"
      },
      "outputs": [
        {
          "output_type": "stream",
          "name": "stdout",
          "text": [
            "Size of bucket: 1, timestamp: 40\n",
            "Size of bucket: 2, timestamp: 39\n",
            "Size of bucket: 4, timestamp: 31\n",
            "Size of bucket: 8, timestamp: 22\n"
          ]
        }
      ],
      "source": [
        "import IPython\n",
        "import sys\n",
        "import itertools\n",
        "import time\n",
        "import math\n",
        "\n",
        "def checkAndMergeBucket(bucketList, t):\n",
        "    bucketListLength = len(bucketList)\n",
        "    for i in range (bucketListLength):\n",
        "        if len(bucketList[i]) > 2:\n",
        "            bucketList[i].pop(0)\n",
        "            if i + 1 >= bucketListLength:\n",
        "                bucketList[i].pop(0)\n",
        "            else:\n",
        "                bucketList[i+1].append(bucketList[i].pop(0))\n",
        "\n",
        "K = 1000\n",
        "N = 1000\n",
        "k = int(math.floor(math.log(N, 2)))\n",
        "t = 0\n",
        "onesCount = 0\n",
        "bucketList = []\n",
        "for i in range(k+1):\n",
        "    bucketList.append(list())\n",
        "\n",
        "with open('data.txt') as f:\n",
        "    while True:\n",
        "        c = f.read(1)\n",
        "        if not c:\n",
        "            for i in range(k+1):\n",
        "                for j in range(len(bucketList[i])):\n",
        "                    print (\"Size of bucket: %d, timestamp: %d\" % (pow(2,i), bucketList[i][j]))\n",
        "\n",
        "                    earliestTimestamp = bucketList[i][j]\n",
        "            for i in range(k+1):\n",
        "                for j in range(len(bucketList[i])):\n",
        "                    if bucketList[i][j] != earliestTimestamp:\n",
        "                        onesCount = onesCount + pow(2,i)\n",
        "                    else:\n",
        "                        onesCount = onesCount + 0.5 * pow(2,i)\n",
        "            break\n",
        "        t = (t + 1) % N\n",
        "        for i in range(k+1):\n",
        "            for bucketTimestamp in bucketList[i]:\n",
        "                if bucketTimestamp == t:\n",
        "                    bucketList[i].remove(bucketTimestamp)\n",
        "        if c == '1':\n",
        "            bucketList[0].append(t)\n",
        "            checkAndMergeBucket(bucketList, t)\n",
        "        elif c == '0':\n",
        "            continue"
      ]
    }
  ]
}